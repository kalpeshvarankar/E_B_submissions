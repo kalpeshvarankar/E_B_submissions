{
 "cells": [
  {
   "cell_type": "markdown",
   "id": "3cee03f6",
   "metadata": {},
   "source": [
    "# <font color='green'>D]. Basic Input Output-III:"
   ]
  },
  {
   "cell_type": "markdown",
   "id": "619afd9c",
   "metadata": {},
   "source": [
    "### 1. Calculating the area of the shapes:\n",
    "\n",
    "__Q:__ Write a program to calculate the area of the following shapes:\n",
    "> 1. Rectangle\n",
    "> 2. Square\n",
    "> 3. Triangle\n",
    "> 4. Circle"
   ]
  },
  {
   "cell_type": "code",
   "execution_count": 1,
   "id": "105c80dd",
   "metadata": {},
   "outputs": [
    {
     "name": "stdout",
     "output_type": "stream",
     "text": [
      "Enter the length of the rectangle: 5\n",
      "Enter the width of the rectangle: 9\n",
      "The area of the rectangle is 45.0 sq. units.\n"
     ]
    }
   ],
   "source": [
    "#i).rectangle:\n",
    "\n",
    "l = length = float(input('Enter the length of the rectangle: '))\n",
    "w = width = float(input('Enter the width of the rectangle: '))\n",
    "\n",
    "a = area = round((l*w),2)\n",
    "print(f'The area of the rectangle is {a} sq. units.')"
   ]
  },
  {
   "cell_type": "code",
   "execution_count": 2,
   "id": "32dad25a",
   "metadata": {},
   "outputs": [
    {
     "name": "stdout",
     "output_type": "stream",
     "text": [
      "Enter the side of the square: 9\n",
      "The area of the square is 81.0 sq. units.\n"
     ]
    }
   ],
   "source": [
    "#ii).square:\n",
    "\n",
    "s = side = float(input('Enter the side of the square: '))\n",
    "\n",
    "a = area = round((s**2), 2)\n",
    "print(f'The area of the square is {a} sq. units.')"
   ]
  },
  {
   "cell_type": "code",
   "execution_count": 3,
   "id": "c0748c97",
   "metadata": {},
   "outputs": [
    {
     "name": "stdout",
     "output_type": "stream",
     "text": [
      "Enter the base of the triangle: 12\n",
      "Enter the heigh of the triangle: 20\n",
      "The area of the triangle is 120.0 sq. units.\n"
     ]
    }
   ],
   "source": [
    "#iii).triangle:\n",
    "\n",
    "b = base = float(input('Enter the base of the triangle: '))\n",
    "h = height = float(input('Enter the heigh of the triangle: '))\n",
    "\n",
    "a = area = round((0.5*b*h),2)\n",
    "print(f'The area of the triangle is {a} sq. units.')"
   ]
  },
  {
   "cell_type": "code",
   "execution_count": 4,
   "id": "ee8b7689",
   "metadata": {},
   "outputs": [
    {
     "name": "stdout",
     "output_type": "stream",
     "text": [
      "Enter the radius of the circle: 3.00500\n",
      "The area of the circle is 28.37 sq. units.\n"
     ]
    }
   ],
   "source": [
    "#iv).circle:\n",
    "import math\n",
    "\n",
    "r = radius = float(input('Enter the radius of the circle: '))\n",
    "a = area =round((math.pi)*r**2,2)\n",
    "print(f'The area of the circle is {a} sq. units.')"
   ]
  },
  {
   "cell_type": "markdown",
   "id": "9be863bf",
   "metadata": {},
   "source": [
    "### 2. Calculating the net salary of an employee:\n",
    "\n",
    "__Q:__ Write a program to calculate the net salary of an employee whose basic salry is entered by the user. The DA is 5% of the basic salary, HRA is 7% of the basic salary, and PF is 3% of the basic salary."
   ]
  },
  {
   "cell_type": "code",
   "execution_count": 6,
   "id": "47a1a6c7",
   "metadata": {},
   "outputs": [
    {
     "name": "stdout",
     "output_type": "stream",
     "text": [
      "Enter the basic salary: 35000\n",
      "Net salary is: 38150.0\n"
     ]
    }
   ],
   "source": [
    "basic_salary = float(input(\"Enter the basic salary: \"))\n",
    "\n",
    "# Calculate DA, HRA, and PF\n",
    "da = 0.05 * basic_salary\n",
    "hra = 0.07 * basic_salary\n",
    "pf = 0.03 * basic_salary\n",
    "\n",
    "# Calculate gross salary and net salary\n",
    "gross_salary = basic_salary + da + hra\n",
    "net_salary = gross_salary - pf\n",
    "\n",
    "# Display the net salary to the user\n",
    "print(\"Net salary is:\", net_salary)"
   ]
  },
  {
   "cell_type": "markdown",
   "id": "cc28a6e6",
   "metadata": {},
   "source": [
    "### 3. Calculating the power of a number:\n",
    "\n",
    "__Q:__ Write a program to calculate the power of a number."
   ]
  },
  {
   "cell_type": "code",
   "execution_count": 7,
   "id": "8b5d3271",
   "metadata": {},
   "outputs": [
    {
     "name": "stdout",
     "output_type": "stream",
     "text": [
      "Enter the base: 5\n",
      "Enter the exponent: 3\n",
      "The result is: 125.0\n"
     ]
    }
   ],
   "source": [
    "base = float(input(\"Enter the base: \"))\n",
    "exponent = float(input(\"Enter the exponent: \"))\n",
    "\n",
    "result = base ** exponent\n",
    "\n",
    "print(\"The result is:\", result)"
   ]
  },
  {
   "cell_type": "markdown",
   "id": "c28a038a",
   "metadata": {},
   "source": [
    "### 4. Getting the python version:\n",
    "\n",
    "__Q:__ Write a program to get the python version you are uisng."
   ]
  },
  {
   "cell_type": "code",
   "execution_count": 8,
   "id": "f93a77e0",
   "metadata": {},
   "outputs": [
    {
     "name": "stdout",
     "output_type": "stream",
     "text": [
      "Python version\n",
      "3.9.13 (main, Aug 25 2022, 23:51:50) [MSC v.1916 64 bit (AMD64)]\n",
      "Version info.\n",
      "sys.version_info(major=3, minor=9, micro=13, releaselevel='final', serial=0)\n"
     ]
    }
   ],
   "source": [
    "import sys\n",
    "\n",
    "print(\"Python version\")\n",
    "print(sys.version)\n",
    "print(\"Version info.\")\n",
    "print(sys.version_info)"
   ]
  },
  {
   "cell_type": "code",
   "execution_count": null,
   "id": "c3cf0cbb",
   "metadata": {},
   "outputs": [],
   "source": []
  }
 ],
 "metadata": {
  "kernelspec": {
   "display_name": "Python 3 (ipykernel)",
   "language": "python",
   "name": "python3"
  },
  "language_info": {
   "codemirror_mode": {
    "name": "ipython",
    "version": 3
   },
   "file_extension": ".py",
   "mimetype": "text/x-python",
   "name": "python",
   "nbconvert_exporter": "python",
   "pygments_lexer": "ipython3",
   "version": "3.9.13"
  }
 },
 "nbformat": 4,
 "nbformat_minor": 5
}
