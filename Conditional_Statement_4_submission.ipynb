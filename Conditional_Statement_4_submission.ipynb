{
 "cells": [
  {
   "cell_type": "markdown",
   "id": "b7f4aa6f",
   "metadata": {},
   "source": [
    "# <font color='green'> F]. Conditional Statement-IV:"
   ]
  },
  {
   "cell_type": "markdown",
   "id": "493ecce1",
   "metadata": {},
   "source": [
    "### 1. Calculating net bonus:\n",
    "\n",
    "__Q:__ A company decides to give bonus of 5% to employees if his/her year of service is more than 5 years. Ask user for their salary and year of servoice and print the net bonus amount."
   ]
  },
  {
   "cell_type": "code",
   "execution_count": 1,
   "id": "33d85632",
   "metadata": {},
   "outputs": [
    {
     "name": "stdout",
     "output_type": "stream",
     "text": [
      "Enter your salary: 100\n",
      "Enter the years of service till date: 5.2\n",
      "The net bonus earned is 5.0 units.\n"
     ]
    }
   ],
   "source": [
    "s = salary = float(input('Enter your salary: '))\n",
    "sp = service_period = float(input('Enter the years of service till date: '))\n",
    "b = bonus = 0.05\n",
    "\n",
    "if sp>5:\n",
    "    nb = net_bonus = salary*0.05\n",
    "    print(f'The net bonus earned is {nb} units.')"
   ]
  },
  {
   "cell_type": "markdown",
   "id": "52a694dd",
   "metadata": {},
   "source": [
    "### 2. Checking if square or not:\n",
    "\n",
    "__Q:__ Write a program to take input of length and breadth of a rectangle from user and check if it is a square or not."
   ]
  },
  {
   "cell_type": "code",
   "execution_count": 2,
   "id": "39e4c4a9",
   "metadata": {},
   "outputs": [
    {
     "name": "stdout",
     "output_type": "stream",
     "text": [
      "Enter the length of rectangle: 5\n",
      "Enter the breadth of rectangle: 6\n",
      "It's a rectangle.\n"
     ]
    }
   ],
   "source": [
    "l = length = float(input('Enter the length of rectangle: '))\n",
    "b = breadth = float(input('Enter the breadth of rectangle: '))\n",
    "\n",
    "if l==b:\n",
    "    print('It\\'s a square.')\n",
    "else:\n",
    "    print('It\\'s a rectangle.')"
   ]
  },
  {
   "cell_type": "markdown",
   "id": "07da9e84",
   "metadata": {},
   "source": [
    "### 3. Checkingthe oldest and the youngest person:\n",
    "\n",
    "__Q:__ Take input of age of three people by users and determine oldest and the youngest among them."
   ]
  },
  {
   "cell_type": "code",
   "execution_count": 3,
   "id": "236a6b7b",
   "metadata": {},
   "outputs": [
    {
     "name": "stdout",
     "output_type": "stream",
     "text": [
      "Enter the age of the first person: 51\n",
      "Enter the age of the second person: 27\n",
      "Enter the age of the third person: 33\n",
      "\n",
      "The oldest person is the first person with age 51.0.\n",
      "The youngest person is the second person with age 27.0.\n"
     ]
    }
   ],
   "source": [
    "p1 = person1 = float(input('Enter the age of the first person: '))\n",
    "p2 = person2 = float(input('Enter the age of the second person: '))\n",
    "p3 = person3 = float(input('Enter the age of the third person: '))\n",
    "\n",
    "if p1>=p2 and p1>=p3:\n",
    "    oldest = p1\n",
    "    oldest_person = 'first person'\n",
    "elif p2>=p1 and p2>=p3:\n",
    "    oldest = p2\n",
    "    oldest_person = 'second person'\n",
    "else:\n",
    "    oldest = p3\n",
    "    oldest_person = 'third person'\n",
    "    \n",
    "if p1<=p2 and p1<=p3:\n",
    "    youngest = p1\n",
    "    youngest_person = 'first person'\n",
    "elif p2<=p1 and p2<=p3:\n",
    "    youngest = p2\n",
    "    youngest_person = 'second person'\n",
    "else:\n",
    "    youngest = p3\n",
    "    youngest_person = 'third person'\n",
    "    \n",
    "if p1==p2==p3:\n",
    "    print('\\nAll three people have same age.')\n",
    "else:\n",
    "    print(f'\\nThe oldest person is the {oldest_person} with age {oldest}.')\n",
    "    print(f'The youngest person is the {youngest_person} with age {youngest}.')"
   ]
  },
  {
   "cell_type": "code",
   "execution_count": null,
   "id": "5baa482c",
   "metadata": {},
   "outputs": [],
   "source": []
  }
 ],
 "metadata": {
  "kernelspec": {
   "display_name": "Python 3 (ipykernel)",
   "language": "python",
   "name": "python3"
  },
  "language_info": {
   "codemirror_mode": {
    "name": "ipython",
    "version": 3
   },
   "file_extension": ".py",
   "mimetype": "text/x-python",
   "name": "python",
   "nbconvert_exporter": "python",
   "pygments_lexer": "ipython3",
   "version": "3.9.13"
  }
 },
 "nbformat": 4,
 "nbformat_minor": 5
}
