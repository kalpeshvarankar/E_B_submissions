{
 "cells": [
  {
   "cell_type": "markdown",
   "id": "00df5c4e",
   "metadata": {},
   "source": [
    "# <font color='green'> G]. Looping Statement-I:"
   ]
  },
  {
   "cell_type": "markdown",
   "id": "2b7d05e5",
   "metadata": {},
   "source": [
    "### 1. Printing hello python 10 times:\n",
    "\n",
    "__Q:__ Write a program to print hello python 10 times."
   ]
  },
  {
   "cell_type": "code",
   "execution_count": 1,
   "id": "a301485d",
   "metadata": {},
   "outputs": [
    {
     "name": "stdout",
     "output_type": "stream",
     "text": [
      "1. Hello Python\n",
      "2. Hello Python\n",
      "3. Hello Python\n",
      "4. Hello Python\n",
      "5. Hello Python\n",
      "6. Hello Python\n",
      "7. Hello Python\n",
      "8. Hello Python\n",
      "9. Hello Python\n",
      "10. Hello Python\n"
     ]
    }
   ],
   "source": [
    "for i in range(1,11):\n",
    "    print(f'{i}. Hello Python')"
   ]
  },
  {
   "cell_type": "markdown",
   "id": "4b1974f7",
   "metadata": {},
   "source": [
    "### 2. Printing numbers from 1-10:\n",
    "\n",
    "__Q:__ Write a program to print number from 1 to 10."
   ]
  },
  {
   "cell_type": "code",
   "execution_count": 2,
   "id": "9b3eea55",
   "metadata": {},
   "outputs": [
    {
     "name": "stdout",
     "output_type": "stream",
     "text": [
      "1\n",
      "2\n",
      "3\n",
      "4\n",
      "5\n",
      "6\n",
      "7\n",
      "8\n",
      "9\n",
      "10\n"
     ]
    }
   ],
   "source": [
    "for num in range(1,11):\n",
    "    print(num)"
   ]
  },
  {
   "cell_type": "markdown",
   "id": "f20ab775",
   "metadata": {},
   "source": [
    "### 3. Printing the sum of first 10 numbers:\n",
    "\n",
    "__Q:__ Write a program to print the sum of first ten numbers."
   ]
  },
  {
   "cell_type": "code",
   "execution_count": 3,
   "id": "b7a2434a",
   "metadata": {},
   "outputs": [
    {
     "name": "stdout",
     "output_type": "stream",
     "text": [
      "The sum of first 10 numbers is  55\n"
     ]
    }
   ],
   "source": [
    "total=0\n",
    "for num in range(1,11):\n",
    "    total+=num\n",
    "print('The sum of first 10 numbers is ', total)"
   ]
  },
  {
   "cell_type": "markdown",
   "id": "cb3465a6",
   "metadata": {},
   "source": [
    "### 4. Printing n number entered by the user:\n",
    "\n",
    "__Q:__ Write a program to print n numbers entered by the user."
   ]
  },
  {
   "cell_type": "code",
   "execution_count": 4,
   "id": "59651d44",
   "metadata": {},
   "outputs": [
    {
     "name": "stdout",
     "output_type": "stream",
     "text": [
      "Enter a number: 5\n",
      "1\n",
      "2\n",
      "3\n",
      "4\n",
      "5\n"
     ]
    }
   ],
   "source": [
    "n = int(input(\"Enter a number: \"))\n",
    "\n",
    "for i in range(1, n+1):\n",
    "    print(i)"
   ]
  },
  {
   "cell_type": "markdown",
   "id": "f959a77e",
   "metadata": {},
   "source": [
    "### 5. Printing sum of n numbers:\n",
    "\n",
    "__Q:__ Write a program to print sum of n numbers."
   ]
  },
  {
   "cell_type": "code",
   "execution_count": 5,
   "id": "b07fa96e",
   "metadata": {},
   "outputs": [
    {
     "name": "stdout",
     "output_type": "stream",
     "text": [
      "Enter a number: 10\n",
      "The sum of all the numbers till 10 is 55.\n"
     ]
    }
   ],
   "source": [
    "n = int(input(\"Enter a number: \"))\n",
    "total=0\n",
    "for i in range(1,n+1):\n",
    "    total+=i\n",
    "print(f'The sum of all the numbers till {n} is {total}.')"
   ]
  },
  {
   "cell_type": "code",
   "execution_count": 6,
   "id": "52b63e83",
   "metadata": {},
   "outputs": [
    {
     "name": "stdout",
     "output_type": "stream",
     "text": [
      "Enter the number of elements to be added: 5\n",
      "Enter a number: 1\n",
      "Enter a number: 2\n",
      "Enter a number: 3\n",
      "Enter a number: 4\n",
      "Enter a number: 4\n",
      "The sum of the 5 numbers is 14.0\n"
     ]
    }
   ],
   "source": [
    "#another way:\n",
    "n = int(input(\"Enter the number of elements to be added: \"))\n",
    "sum = 0\n",
    "\n",
    "for i in range(n):\n",
    "    num = float(input(\"Enter a number: \"))\n",
    "    sum += num\n",
    "\n",
    "print(\"The sum of the\", n, \"numbers is\", sum)\n"
   ]
  },
  {
   "cell_type": "markdown",
   "id": "61b5323c",
   "metadata": {},
   "source": [
    "### 6. Printing the table of a number:\n",
    "\n",
    "__Q:__ Write a program to print table of a number."
   ]
  },
  {
   "cell_type": "code",
   "execution_count": 7,
   "id": "dc723c4a",
   "metadata": {},
   "outputs": [
    {
     "name": "stdout",
     "output_type": "stream",
     "text": [
      "Enter the number for which you want a table: 3\n",
      "3 x 1 = 3\n",
      "3 x 2 = 6\n",
      "3 x 3 = 9\n",
      "3 x 4 = 12\n",
      "3 x 5 = 15\n",
      "3 x 6 = 18\n",
      "3 x 7 = 21\n",
      "3 x 8 = 24\n",
      "3 x 9 = 27\n",
      "3 x 10 = 30\n"
     ]
    }
   ],
   "source": [
    "n = int(input('Enter the number for which you want a table: '))\n",
    "\n",
    "for i in range(1,11):\n",
    "    print(f'{n} x {i} = {n*i}')"
   ]
  },
  {
   "cell_type": "markdown",
   "id": "3264b176",
   "metadata": {},
   "source": [
    "### 7. Calculating the factorial of a number:\n",
    "\n",
    "__Q:__ Write a program to calculate the factorial of a number."
   ]
  },
  {
   "cell_type": "code",
   "execution_count": 8,
   "id": "57de4bd0",
   "metadata": {},
   "outputs": [
    {
     "name": "stdout",
     "output_type": "stream",
     "text": [
      "Enter a number: 5\n",
      "The factorial of 5 is 120\n"
     ]
    }
   ],
   "source": [
    "n = int(input('Enter a number: '))\n",
    "\n",
    "fact=1\n",
    "\n",
    "for i in range(1, n+1):\n",
    "    fact*=i\n",
    "print(\"The factorial of\", n, \"is\", fact)"
   ]
  },
  {
   "cell_type": "markdown",
   "id": "89f64bcc",
   "metadata": {},
   "source": [
    "### 8. Printing even numbers from 1-100:\n",
    "\n",
    "__Q:__ Write a program to print even numbers between 1-100."
   ]
  },
  {
   "cell_type": "code",
   "execution_count": 9,
   "id": "6640a252",
   "metadata": {},
   "outputs": [
    {
     "name": "stdout",
     "output_type": "stream",
     "text": [
      "Even numbers from 1-100:\n",
      "[2, 4, 6, 8, 10, 12, 14, 16, 18, 20, 22, 24, 26, 28, 30, 32, 34, 36, 38, 40, 42, 44, 46, 48, 50, 52, 54, 56, 58, 60, 62, 64, 66, 68, 70, 72, 74, 76, 78, 80, 82, 84, 86, 88, 90, 92, 94, 96, 98, 100]\n"
     ]
    }
   ],
   "source": [
    "even_nos=[]\n",
    "for i in range(1,101):\n",
    "    if i%2==0:\n",
    "        even_nos.append(i)\n",
    "        \n",
    "print(f'Even numbers from 1-100:\\n{even_nos}')"
   ]
  },
  {
   "cell_type": "markdown",
   "id": "8240d236",
   "metadata": {},
   "source": [
    "### 9. Printing all the odd numbers from 1-100:\n",
    "\n",
    "__Q:__ Write a program to print odd numbers between 1-100."
   ]
  },
  {
   "cell_type": "code",
   "execution_count": 10,
   "id": "22fb8da2",
   "metadata": {},
   "outputs": [
    {
     "name": "stdout",
     "output_type": "stream",
     "text": [
      "Odd numbers from 1-100:\n",
      "[1, 3, 5, 7, 9, 11, 13, 15, 17, 19, 21, 23, 25, 27, 29, 31, 33, 35, 37, 39, 41, 43, 45, 47, 49, 51, 53, 55, 57, 59, 61, 63, 65, 67, 69, 71, 73, 75, 77, 79, 81, 83, 85, 87, 89, 91, 93, 95, 97, 99]\n"
     ]
    }
   ],
   "source": [
    "odd_nos=[]\n",
    "for i in range(1,101):\n",
    "    if i%2!=0:\n",
    "        odd_nos.append(i)\n",
    "        \n",
    "print(f'Odd numbers from 1-100:\\n{odd_nos}')"
   ]
  },
  {
   "cell_type": "code",
   "execution_count": null,
   "id": "051a0387",
   "metadata": {},
   "outputs": [],
   "source": []
  }
 ],
 "metadata": {
  "kernelspec": {
   "display_name": "Python 3 (ipykernel)",
   "language": "python",
   "name": "python3"
  },
  "language_info": {
   "codemirror_mode": {
    "name": "ipython",
    "version": 3
   },
   "file_extension": ".py",
   "mimetype": "text/x-python",
   "name": "python",
   "nbconvert_exporter": "python",
   "pygments_lexer": "ipython3",
   "version": "3.9.13"
  }
 },
 "nbformat": 4,
 "nbformat_minor": 5
}
