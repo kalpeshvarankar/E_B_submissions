{
 "cells": [
  {
   "cell_type": "markdown",
   "id": "c3d6493d",
   "metadata": {},
   "source": [
    "# <font color='green'>I]. Looping Statement-II:"
   ]
  },
  {
   "cell_type": "markdown",
   "id": "a82c8175",
   "metadata": {},
   "source": [
    "### 1. Checking if a  number is palindrome:\n",
    "\n",
    "__Q:__ Write a program to check whether a given number is a palindrome or not."
   ]
  },
  {
   "cell_type": "code",
   "execution_count": 1,
   "id": "57246598",
   "metadata": {},
   "outputs": [
    {
     "name": "stdout",
     "output_type": "stream",
     "text": [
      "Enter a number: 525\n",
      "525 is a palindrome.\n"
     ]
    }
   ],
   "source": [
    "#using loop:\n",
    "\n",
    "num = int(input(\"Enter a number: \"))\n",
    "num_str = str(num)\n",
    "is_palindrome = True\n",
    "\n",
    "for i in range(len(num_str) // 2):\n",
    "    if num_str[i] != num_str[-i - 1]:\n",
    "        is_palindrome = False\n",
    "        break\n",
    "\n",
    "if is_palindrome:\n",
    "    print(f\"{num} is a palindrome.\")\n",
    "else:\n",
    "    print(f\"{num} is not a palindrome.\")"
   ]
  },
  {
   "cell_type": "code",
   "execution_count": 2,
   "id": "bc4e108a",
   "metadata": {},
   "outputs": [
    {
     "name": "stdout",
     "output_type": "stream",
     "text": [
      "Enter a number: 242\n",
      "242 is a palindrome\n"
     ]
    }
   ],
   "source": [
    "#another way:\n",
    "num = int(input(\"Enter a number: \"))\n",
    "\n",
    "# Convert the number to string and reversing it:\n",
    "num_str = str(num)\n",
    "reverse_num_str = num_str[::-1]\n",
    "\n",
    "# Compare original and reversed strings\n",
    "if num_str == reverse_num_str:\n",
    "    print(num, \"is a palindrome\")\n",
    "else:\n",
    "    print(num, \"is not a palindrome\")"
   ]
  },
  {
   "cell_type": "markdown",
   "id": "7470b39a",
   "metadata": {},
   "source": [
    "### 2. Finding factors of a number:\n",
    "\n",
    "__Q:__ Write a program to find the factors of a number."
   ]
  },
  {
   "cell_type": "code",
   "execution_count": 4,
   "id": "c05c765c",
   "metadata": {},
   "outputs": [
    {
     "name": "stdout",
     "output_type": "stream",
     "text": [
      "Enter a number: 8\n",
      "Factors of 8 are:\n",
      "1\n",
      "2\n",
      "4\n",
      "8\n"
     ]
    }
   ],
   "source": [
    "num = int(input(\"Enter a number: \"))\n",
    "\n",
    "print(f\"Factors of {num} are:\")\n",
    "for i in range(1, num+1):\n",
    "    if num % i == 0:\n",
    "        print(i)"
   ]
  },
  {
   "cell_type": "markdown",
   "id": "953e7f87",
   "metadata": {},
   "source": [
    "### 3. Printing reverse of a number:\n",
    "\n",
    "__Q:__ Write a program to print the reverse of a number."
   ]
  },
  {
   "cell_type": "code",
   "execution_count": 5,
   "id": "09ec3951",
   "metadata": {},
   "outputs": [
    {
     "name": "stdout",
     "output_type": "stream",
     "text": [
      "Enter a number: 5256\n",
      "The reverse of 5256 is 6525\n"
     ]
    }
   ],
   "source": [
    "#using loops:\n",
    "\n",
    "num = input(\"Enter a number: \")\n",
    "num_str = str(num)\n",
    "reverse_str = \"\"\n",
    "\n",
    "for i in range(len(num_str)-1, -1, -1):\n",
    "    reverse_str += num_str[i]\n",
    "\n",
    "print(f'The reverse of {num} is', int(reverse_str))"
   ]
  },
  {
   "cell_type": "code",
   "execution_count": 6,
   "id": "28f39e46",
   "metadata": {},
   "outputs": [
    {
     "name": "stdout",
     "output_type": "stream",
     "text": [
      "Enter a number: 874\n",
      "The reverse of 874 is: 478\n"
     ]
    }
   ],
   "source": [
    "#another way\n",
    "num = input(\"Enter a number: \")\n",
    "reverse_num = \"\"\n",
    "\n",
    "for i in range(len(num)-1, -1, -1):\n",
    "    reverse_num += num[i]\n",
    "\n",
    "reverse_num_padded = reverse_num.ljust(len(num), '0')\n",
    "\n",
    "print(f\"The reverse of {num} is: {reverse_num_padded}\")"
   ]
  },
  {
   "cell_type": "code",
   "execution_count": 7,
   "id": "59c63613",
   "metadata": {},
   "outputs": [
    {
     "name": "stdout",
     "output_type": "stream",
     "text": [
      "Enter a number: 8657\n",
      "The reversed number is 7568\n"
     ]
    }
   ],
   "source": [
    "#another way:\n",
    "num = int(input(\"Enter a number: \"))\n",
    "num_str = str(num)\n",
    "reversed_no_str = num_str[::-1]\n",
    "reversed_no = int(reversed_no_str)\n",
    "\n",
    "print(f\"The reversed number is {reversed_no:0{len(num_str)}}\")\n"
   ]
  },
  {
   "cell_type": "markdown",
   "id": "4b4929e6",
   "metadata": {},
   "source": [
    "### 4. Printing the sum of a reversed number:\n",
    "\n",
    "__Q:__ Write a program to print the sum of a reversed number."
   ]
  },
  {
   "cell_type": "code",
   "execution_count": 8,
   "id": "4e078091",
   "metadata": {},
   "outputs": [
    {
     "name": "stdout",
     "output_type": "stream",
     "text": [
      "Enter a number: 6874\n",
      "The sum of the digits of the reversed number is: 25\n"
     ]
    }
   ],
   "source": [
    "num = int(input(\"Enter a number: \"))\n",
    "reverse_num = 0\n",
    "\n",
    "while num > 0:\n",
    "    digit = num % 10\n",
    "    reverse_num = reverse_num * 10 + digit\n",
    "    num = num // 10\n",
    "\n",
    "sum_of_digits = 0\n",
    "\n",
    "while reverse_num > 0:\n",
    "    digit = reverse_num % 10\n",
    "    sum_of_digits += digit\n",
    "    reverse_num = reverse_num // 10\n",
    "\n",
    "print(\"The sum of the digits of the reversed number is:\", sum_of_digits)"
   ]
  },
  {
   "cell_type": "markdown",
   "id": "63fefb83",
   "metadata": {},
   "source": [
    "### 5. Checking if a number is prime or not:\n",
    "\n",
    "__Q:__ Write a program to check whether a given number is a prime or not."
   ]
  },
  {
   "cell_type": "code",
   "execution_count": 9,
   "id": "68d78cad",
   "metadata": {},
   "outputs": [
    {
     "name": "stdout",
     "output_type": "stream",
     "text": [
      "Enter a number: 7\n",
      "7 is a prime number.\n"
     ]
    }
   ],
   "source": [
    "num = int(input(\"Enter a number: \"))\n",
    "is_prime = True\n",
    "\n",
    "if num < 2:\n",
    "    is_prime = False\n",
    "\n",
    "for i in range(2, num):\n",
    "    if num % i == 0:\n",
    "        is_prime = False\n",
    "        break\n",
    "\n",
    "if is_prime:\n",
    "    print(num, \"is a prime number.\")\n",
    "else:\n",
    "    print(num, \"is not a prime number.\")"
   ]
  },
  {
   "cell_type": "markdown",
   "id": "6d4399a3",
   "metadata": {},
   "source": [
    "### 6. Printing all the prime numbers from 1-100:\n",
    "\n",
    "__Q:__ Write a program to print prime numbers between 1 to 100."
   ]
  },
  {
   "cell_type": "code",
   "execution_count": 10,
   "id": "dce2c35e",
   "metadata": {},
   "outputs": [
    {
     "name": "stdout",
     "output_type": "stream",
     "text": [
      "[2, 3, 5, 7, 11, 13, 17, 19, 23, 29, 31, 37, 41, 43, 47, 53, 59, 61, 67, 71, 73, 79, 83, 89, 97]\n"
     ]
    }
   ],
   "source": [
    "prime_list=[]\n",
    "for num in range(2, 101):\n",
    "    is_prime = True\n",
    "    \n",
    "    for i in range(2, num):\n",
    "        if num % i == 0:\n",
    "            is_prime = False\n",
    "            break\n",
    "    \n",
    "    if is_prime:\n",
    "        prime_list.append(num)\n",
    "        \n",
    "print(prime_list)"
   ]
  },
  {
   "cell_type": "markdown",
   "id": "f7871acd",
   "metadata": {},
   "source": [
    "### 7. Printing reverse of a number entered by a user:\n",
    "\n",
    "__Q:__ Write a program to print number is reverse order entered by the user."
   ]
  },
  {
   "cell_type": "code",
   "execution_count": 11,
   "id": "804d2015",
   "metadata": {},
   "outputs": [
    {
     "name": "stdout",
     "output_type": "stream",
     "text": [
      "Enter a number: 35246\n",
      "The reversed number is: 64253\n"
     ]
    }
   ],
   "source": [
    "number = int(input('Enter a number: '))\n",
    "n_str = str(number)\n",
    "\n",
    "reversed_str=''\n",
    "for i in n_str[::-1]:\n",
    "    reversed_str += i\n",
    "reversed_no = int(reversed_str)\n",
    "print(f'The reversed number is: {reversed_no}')"
   ]
  },
  {
   "cell_type": "code",
   "execution_count": 12,
   "id": "5dbe5c66",
   "metadata": {},
   "outputs": [
    {
     "name": "stdout",
     "output_type": "stream",
     "text": [
      "Enter a number: 3871\n",
      "The number in reversed order is: 1783\n"
     ]
    }
   ],
   "source": [
    "# another way:\n",
    "\n",
    "num = int(input(\"Enter a number: \"))\n",
    "reverse_num = 0\n",
    "\n",
    "while num > 0:\n",
    "    digit = num % 10\n",
    "    reverse_num = reverse_num * 10 + digit\n",
    "    num = num // 10\n",
    "\n",
    "print(\"The number in reversed order is:\", reverse_num)"
   ]
  },
  {
   "cell_type": "markdown",
   "id": "3751a6f5",
   "metadata": {},
   "source": [
    "### 8.Printing cubes of all the numbers from 1 to n:\n",
    "\n",
    "__Q:__ Write a program to print the cube of all numbers from 1 to a given number."
   ]
  },
  {
   "cell_type": "code",
   "execution_count": 14,
   "id": "58f1f14c",
   "metadata": {},
   "outputs": [
    {
     "name": "stdout",
     "output_type": "stream",
     "text": [
      "Enter a number: 10\n",
      "[1, 8, 27, 64, 125, 216, 343, 512, 729, 1000]\n"
     ]
    }
   ],
   "source": [
    "cubes = []\n",
    "n = int(input(\"Enter a number: \"))\n",
    "\n",
    "for i in range(1,n+1):\n",
    "    cubes.append(i**3)\n",
    "print(cubes)"
   ]
  },
  {
   "cell_type": "code",
   "execution_count": null,
   "id": "f1d44110",
   "metadata": {},
   "outputs": [],
   "source": []
  }
 ],
 "metadata": {
  "kernelspec": {
   "display_name": "Python 3 (ipykernel)",
   "language": "python",
   "name": "python3"
  },
  "language_info": {
   "codemirror_mode": {
    "name": "ipython",
    "version": 3
   },
   "file_extension": ".py",
   "mimetype": "text/x-python",
   "name": "python",
   "nbconvert_exporter": "python",
   "pygments_lexer": "ipython3",
   "version": "3.9.13"
  }
 },
 "nbformat": 4,
 "nbformat_minor": 5
}
