{
 "cells": [
  {
   "cell_type": "markdown",
   "id": "efe390ce",
   "metadata": {},
   "source": [
    "# <font color='green'>E]. Conditional Statement-II:"
   ]
  },
  {
   "cell_type": "markdown",
   "id": "eadf8fb1",
   "metadata": {},
   "source": [
    "### 1. Printing the greatest number from two numbers:\n",
    "\n",
    "__Q:__ Write a program to enter two numbers and print the greatest number:"
   ]
  },
  {
   "cell_type": "code",
   "execution_count": 1,
   "id": "1673f0da",
   "metadata": {},
   "outputs": [
    {
     "name": "stdout",
     "output_type": "stream",
     "text": [
      "Enter the first number: 5\n",
      "Enter the second number: 8\n",
      "The greatest number is: 8.0\n"
     ]
    }
   ],
   "source": [
    "num1 = float(input('Enter the first number: '))\n",
    "num2 = float(input('Enter the second number: '))\n",
    "\n",
    "if num1>num2:\n",
    "    print(f'The greatest number is: {num1}')\n",
    "else:\n",
    "    print(f'The greatest number is: {num2}')"
   ]
  },
  {
   "cell_type": "markdown",
   "id": "09e778c4",
   "metadata": {},
   "source": [
    "### 2. Printing the smalest number from two numbers:\n",
    "\n",
    "__Q:__ Write a program to enter two numbers and print the smallest number:"
   ]
  },
  {
   "cell_type": "code",
   "execution_count": 2,
   "id": "7fbb3f85",
   "metadata": {},
   "outputs": [
    {
     "name": "stdout",
     "output_type": "stream",
     "text": [
      "Enter the first number: 40\n",
      "Enter the second number: 4\n",
      "The smallest number is: 4.0\n"
     ]
    }
   ],
   "source": [
    "num1 = float(input('Enter the first number: '))\n",
    "num2 = float(input('Enter the second number: '))\n",
    "\n",
    "if num1>num2:\n",
    "    print(f'The smallest number is: {num2}')\n",
    "else:\n",
    "    print(f'The smallest number is: {num1}')"
   ]
  },
  {
   "cell_type": "markdown",
   "id": "c3b0959d",
   "metadata": {},
   "source": [
    "### 3. Printing the greatest number from three numbers:\n",
    "\n",
    "__Q:__ Write a program to enter three numbers and print the greatest number."
   ]
  },
  {
   "cell_type": "code",
   "execution_count": 3,
   "id": "2f081a6f",
   "metadata": {},
   "outputs": [
    {
     "name": "stdout",
     "output_type": "stream",
     "text": [
      "Enter the first number: 5\n",
      "Enter the second number: 8\n",
      "Enter the third number: 10\n",
      "The greatest number is 10.0\n"
     ]
    }
   ],
   "source": [
    "num1 = float(input(\"Enter the first number: \"))\n",
    "num2 = float(input(\"Enter the second number: \"))\n",
    "num3 = float(input(\"Enter the third number: \"))\n",
    "\n",
    "if num1>num2 and num1>num3:\n",
    "    print(f'The greatest number is {num1}')\n",
    "elif num2>num1 and num2>num3:\n",
    "    print(f'The greatest number is {num2}')\n",
    "else:\n",
    "    print(f'The greatest number is {num3}')"
   ]
  },
  {
   "cell_type": "markdown",
   "id": "19f1094e",
   "metadata": {},
   "source": [
    "### 4. Printing the smallest number from three numbers:\n",
    "\n",
    "__Q:__ Write a program to enter three numbers and print the smallest number."
   ]
  },
  {
   "cell_type": "code",
   "execution_count": 4,
   "id": "cef8f4d6",
   "metadata": {},
   "outputs": [
    {
     "name": "stdout",
     "output_type": "stream",
     "text": [
      "Enter the first number: 5\n",
      "Enter the second number: 8\n",
      "Enter the third number: 1\n",
      "The smallest number is 1.0\n"
     ]
    }
   ],
   "source": [
    "num1 = float(input(\"Enter the first number: \"))\n",
    "num2 = float(input(\"Enter the second number: \"))\n",
    "num3 = float(input(\"Enter the third number: \"))\n",
    "\n",
    "if num1<num2 and num1<num3:\n",
    "    print(f'The smallest number is {num1}')\n",
    "elif num2<num1 and num2<num3:\n",
    "    print(f'The smallest number is {num2}')\n",
    "else:\n",
    "    print(f'The smallest number is {num3}')"
   ]
  },
  {
   "cell_type": "markdown",
   "id": "e670318d",
   "metadata": {},
   "source": [
    "### 5. Calculating the roots of a quadratic equation:\n",
    "\n",
    "__Q:__ Write a program to calculate the roots of a quadratic equation."
   ]
  },
  {
   "cell_type": "code",
   "execution_count": 5,
   "id": "98bf2c17",
   "metadata": {},
   "outputs": [
    {
     "name": "stdout",
     "output_type": "stream",
     "text": [
      "Enter the value of a: 2\n",
      "Enter the value of b: 3\n",
      "Enter the value of c: -2\n",
      "The roots of the quadratic equation are:\n",
      "Root 1: 0.5\n",
      "Root 2: -2.0\n"
     ]
    }
   ],
   "source": [
    "import math\n",
    "a = float(input(\"Enter the value of a: \"))\n",
    "b = float(input(\"Enter the value of b: \"))\n",
    "c = float(input(\"Enter the value of c: \"))\n",
    "\n",
    "# Calculate the discriminant\n",
    "d = discriminant = b**2 - 4*a*c\n",
    "\n",
    "# Check if the discriminant is negative\n",
    "if discriminant < 0:\n",
    "    print(\"The quadratic equation has no real roots.\")\n",
    "else:\n",
    "    # Calculate the roots\n",
    "    root1 = (-b + math.sqrt(d)) / (2*a)\n",
    "    root2 = (-b - math.sqrt(d)) / (2*a)\n",
    "\n",
    "    # Print the roots\n",
    "    print(\"The roots of the quadratic equation are:\")\n",
    "    print(\"Root 1:\", root1)\n",
    "    print(\"Root 2:\", root2)\n"
   ]
  },
  {
   "cell_type": "markdown",
   "id": "1f872d3d",
   "metadata": {},
   "source": [
    "### 6. Printing a number and its corresponding week:\n",
    "\n",
    "__Q:__ Write a program to enter a number between (1-7) and print the respective day of the week."
   ]
  },
  {
   "cell_type": "code",
   "execution_count": 7,
   "id": "010c520d",
   "metadata": {},
   "outputs": [
    {
     "name": "stdout",
     "output_type": "stream",
     "text": [
      "Enter a number between 1-7: 1\n",
      "1 corresponds to Monday\n"
     ]
    }
   ],
   "source": [
    "day = int(input(\"Enter a number between 1-7: \"))\n",
    "\n",
    "if day == 1:\n",
    "    print(\"1 corresponds to Monday\")\n",
    "elif day == 2:\n",
    "    print(\"2 corresponds to Tuesday\")\n",
    "elif day == 3:\n",
    "    print(\"3 corresponds to Wednesday\")\n",
    "elif day == 4:\n",
    "    print(\"4 corresponds to Thursday\")\n",
    "elif day == 5:\n",
    "    print(\"5 corresponds to Friday\")\n",
    "elif day == 6:\n",
    "    print(\"6 corresponds to Saturday\")\n",
    "elif day == 7:\n",
    "    print(\"7 corresponds to Sunday\")\n",
    "else:\n",
    "    print(\"Invalid input! Please enter a number between 1-7.\")"
   ]
  },
  {
   "cell_type": "code",
   "execution_count": null,
   "id": "3d83cf31",
   "metadata": {},
   "outputs": [],
   "source": []
  }
 ],
 "metadata": {
  "kernelspec": {
   "display_name": "Python 3 (ipykernel)",
   "language": "python",
   "name": "python3"
  },
  "language_info": {
   "codemirror_mode": {
    "name": "ipython",
    "version": 3
   },
   "file_extension": ".py",
   "mimetype": "text/x-python",
   "name": "python",
   "nbconvert_exporter": "python",
   "pygments_lexer": "ipython3",
   "version": "3.9.13"
  }
 },
 "nbformat": 4,
 "nbformat_minor": 5
}
