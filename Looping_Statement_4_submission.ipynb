{
 "cells": [
  {
   "cell_type": "markdown",
   "id": "3c53707f",
   "metadata": {},
   "source": [
    "# <span style='color:green'> L]. Looping Statement - IV </span>"
   ]
  },
  {
   "cell_type": "markdown",
   "id": "46093ecf",
   "metadata": {},
   "source": [
    "## 1. Printing numbers divisible of 7, multiple of 5 from (1000 to 2000):\n",
    "\n",
    "__Q:__ Write a program to find those numbers which are divisible by 7 and multiple of 5, between 1000 and 2000."
   ]
  },
  {
   "cell_type": "code",
   "execution_count": 2,
   "id": "a321dd53",
   "metadata": {},
   "outputs": [
    {
     "name": "stdout",
     "output_type": "stream",
     "text": [
      "[1015, 1050, 1085, 1120, 1155, 1190, 1225, 1260, 1295, 1330, 1365, 1400, 1435, 1470, 1505, 1540, 1575, 1610, 1645, 1680, 1715, 1750, 1785, 1820, 1855, 1890, 1925, 1960, 1995]\n"
     ]
    }
   ],
   "source": [
    "my_list = []\n",
    "for number in range(1000, 2001):\n",
    "    if number % 7 == 0 and number % 5 == 0:\n",
    "        my_list.append(number)\n",
    "        \n",
    "print(my_list)"
   ]
  },
  {
   "cell_type": "markdown",
   "id": "ab71c972",
   "metadata": {},
   "source": [
    "## 2. Printing number pattern using loops:\n",
    "\n",
    "__Q:__ Write a program to pring the various given number patterns using loops."
   ]
  },
  {
   "cell_type": "markdown",
   "id": "7f1a22cf",
   "metadata": {},
   "source": [
    "### Type-1:"
   ]
  },
  {
   "cell_type": "code",
   "execution_count": 3,
   "id": "26603bcf",
   "metadata": {},
   "outputs": [
    {
     "name": "stdout",
     "output_type": "stream",
     "text": [
      "1\n",
      "12\n",
      "123\n",
      "1234\n",
      "12345\n"
     ]
    }
   ],
   "source": [
    "rows = 5\n",
    "\n",
    "for i in range(1, rows + 1):\n",
    "    for j in range(1, i + 1):\n",
    "        print(j, end='')\n",
    "    print()"
   ]
  },
  {
   "cell_type": "markdown",
   "id": "323cc6a9",
   "metadata": {},
   "source": [
    "### Type-2:"
   ]
  },
  {
   "cell_type": "code",
   "execution_count": 4,
   "id": "eb84f919",
   "metadata": {},
   "outputs": [
    {
     "name": "stdout",
     "output_type": "stream",
     "text": [
      "1\n",
      " 22\n",
      "  333\n",
      "   4444\n",
      "    55555\n"
     ]
    }
   ],
   "source": [
    "rows = 5\n",
    "\n",
    "for i in range(1, rows + 1):\n",
    "    # Print leading spaces for each row\n",
    "    for _ in range(1, i):\n",
    "        print(\" \", end='')\n",
    "\n",
    "    # Print numbers for each row\n",
    "    for j in range(1, i + 1):\n",
    "        print(i, end='')\n",
    "\n",
    "    print()"
   ]
  },
  {
   "cell_type": "markdown",
   "id": "757d2709",
   "metadata": {},
   "source": [
    "### Type-3:"
   ]
  },
  {
   "cell_type": "code",
   "execution_count": 6,
   "id": "94066e11",
   "metadata": {},
   "outputs": [
    {
     "name": "stdout",
     "output_type": "stream",
     "text": [
      "54321\n",
      "5432\n",
      "543\n",
      "54\n",
      "5\n"
     ]
    }
   ],
   "source": [
    "rows = 5\n",
    "\n",
    "for i in range(rows, 0, -1):\n",
    "    for j in range(rows, rows - i, -1):\n",
    "        print(j, end='')\n",
    "    print()"
   ]
  },
  {
   "cell_type": "markdown",
   "id": "e4179112",
   "metadata": {},
   "source": [
    "### Type-4:"
   ]
  },
  {
   "cell_type": "code",
   "execution_count": 7,
   "id": "aba33017",
   "metadata": {},
   "outputs": [
    {
     "name": "stdout",
     "output_type": "stream",
     "text": [
      "12345\n",
      "1234\n",
      "123\n",
      "12\n",
      "1\n"
     ]
    }
   ],
   "source": [
    "rows = 5\n",
    "\n",
    "for i in range(rows, 0, -1):\n",
    "    for j in range(1, i + 1):\n",
    "        print(j, end='')\n",
    "    print()"
   ]
  },
  {
   "cell_type": "markdown",
   "id": "09f4931f",
   "metadata": {},
   "source": [
    "### Type-5:"
   ]
  },
  {
   "cell_type": "code",
   "execution_count": 8,
   "id": "7f4e65c8",
   "metadata": {},
   "outputs": [
    {
     "name": "stdout",
     "output_type": "stream",
     "text": [
      "54321\n",
      "4321\n",
      "321\n",
      "21\n",
      "1\n"
     ]
    }
   ],
   "source": [
    "rows = 5\n",
    "\n",
    "for i in range(rows, 0, -1):\n",
    "    for j in range(i, 0, -1):\n",
    "        print(j, end='')\n",
    "    print()"
   ]
  },
  {
   "cell_type": "code",
   "execution_count": null,
   "id": "b4b57e44",
   "metadata": {},
   "outputs": [],
   "source": []
  }
 ],
 "metadata": {
  "kernelspec": {
   "display_name": "Python 3 (ipykernel)",
   "language": "python",
   "name": "python3"
  },
  "language_info": {
   "codemirror_mode": {
    "name": "ipython",
    "version": 3
   },
   "file_extension": ".py",
   "mimetype": "text/x-python",
   "name": "python",
   "nbconvert_exporter": "python",
   "pygments_lexer": "ipython3",
   "version": "3.9.13"
  }
 },
 "nbformat": 4,
 "nbformat_minor": 5
}
