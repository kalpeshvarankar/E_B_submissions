{
 "cells": [
  {
   "cell_type": "markdown",
   "id": "15152ed4",
   "metadata": {},
   "source": [
    "# <span style='color:green'> N]. Looping Statement - VI </span>"
   ]
  },
  {
   "cell_type": "markdown",
   "id": "7f502d89",
   "metadata": {},
   "source": [
    "## 1. Printing letter pattern using loops:\n",
    "\n",
    "__Q:__ Write programs to print the following letter patterns."
   ]
  },
  {
   "cell_type": "markdown",
   "id": "be843d43",
   "metadata": {},
   "source": [
    "### Type-1:"
   ]
  },
  {
   "cell_type": "code",
   "execution_count": 1,
   "id": "ba0aeaa2",
   "metadata": {},
   "outputs": [
    {
     "name": "stdout",
     "output_type": "stream",
     "text": [
      "A\n",
      "AB\n",
      "ABC\n",
      "ABCD\n",
      "ABCDE\n"
     ]
    }
   ],
   "source": [
    "rows = 5\n",
    "\n",
    "for i in range(1, rows + 1):\n",
    "    for j in range(1, i + 1):\n",
    "        print(chr(64 + j), end='')\n",
    "    print()"
   ]
  },
  {
   "cell_type": "markdown",
   "id": "19d3227b",
   "metadata": {},
   "source": [
    "### Type-2:"
   ]
  },
  {
   "cell_type": "code",
   "execution_count": 2,
   "id": "32326146",
   "metadata": {},
   "outputs": [
    {
     "name": "stdout",
     "output_type": "stream",
     "text": [
      "A\n",
      "BB\n",
      "CCC\n",
      "DDDD\n",
      "EEEEE\n"
     ]
    }
   ],
   "source": [
    "rows = 5\n",
    "\n",
    "for i in range(1, rows + 1):\n",
    "    for j in range(1, i + 1):\n",
    "        print(chr(64 + i), end='')\n",
    "    print()"
   ]
  },
  {
   "cell_type": "markdown",
   "id": "62651bf4",
   "metadata": {},
   "source": [
    "### Type-3:"
   ]
  },
  {
   "cell_type": "code",
   "execution_count": 3,
   "id": "018a559d",
   "metadata": {},
   "outputs": [
    {
     "name": "stdout",
     "output_type": "stream",
     "text": [
      "ABCDE\n",
      "ABCD\n",
      "ABC\n",
      "AB\n",
      "A\n"
     ]
    }
   ],
   "source": [
    "rows = 5\n",
    "\n",
    "for i in range(rows, 0, -1):\n",
    "    for j in range(1, i + 1):\n",
    "        print(chr(64 + j), end='')\n",
    "    print()"
   ]
  },
  {
   "cell_type": "markdown",
   "id": "bbfe0cfd",
   "metadata": {},
   "source": [
    "### Type-4:"
   ]
  },
  {
   "cell_type": "code",
   "execution_count": 4,
   "id": "96df7787",
   "metadata": {},
   "outputs": [
    {
     "name": "stdout",
     "output_type": "stream",
     "text": [
      "EEEEE\n",
      "DDDD\n",
      "CCC\n",
      "BB\n",
      "A\n"
     ]
    }
   ],
   "source": [
    "rows = 5\n",
    "\n",
    "for i in range(rows, 0, -1):\n",
    "    print(chr(64 + i) * i)"
   ]
  },
  {
   "cell_type": "code",
   "execution_count": null,
   "id": "baa68d19",
   "metadata": {},
   "outputs": [],
   "source": []
  }
 ],
 "metadata": {
  "kernelspec": {
   "display_name": "Python 3 (ipykernel)",
   "language": "python",
   "name": "python3"
  },
  "language_info": {
   "codemirror_mode": {
    "name": "ipython",
    "version": 3
   },
   "file_extension": ".py",
   "mimetype": "text/x-python",
   "name": "python",
   "nbconvert_exporter": "python",
   "pygments_lexer": "ipython3",
   "version": "3.9.13"
  }
 },
 "nbformat": 4,
 "nbformat_minor": 5
}
