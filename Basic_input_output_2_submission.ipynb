{
 "cells": [
  {
   "cell_type": "markdown",
   "id": "6460ec98",
   "metadata": {},
   "source": [
    "# <font color='green'>C]. Basic Input Output-II:"
   ]
  },
  {
   "cell_type": "markdown",
   "id": "f88f1630",
   "metadata": {},
   "source": [
    "### 1. Swapping two numbers:\n",
    "\n",
    "__Q:__ Write a program to swap two numbers."
   ]
  },
  {
   "cell_type": "code",
   "execution_count": 1,
   "id": "24d33812",
   "metadata": {},
   "outputs": [
    {
     "name": "stdout",
     "output_type": "stream",
     "text": [
      "Enter the first number: 5\n",
      "Enter the second number: 8\n",
      "\n",
      "Before swapping:\n",
      "num1: 5.0\n",
      "num2: 8.0\n",
      "\n",
      "After swaping:\n",
      "num1: 8.0\n",
      "num2: 5.0\n"
     ]
    }
   ],
   "source": [
    "num1 = float(input('Enter the first number: '))\n",
    "num2 = float(input('Enter the second number: '))\n",
    "\n",
    "print('\\nBefore swapping:')\n",
    "print(f'num1: {num1}\\nnum2: {num2}')\n",
    "temp = num1\n",
    "num1 = num2\n",
    "num2 = temp\n",
    "\n",
    "print('\\nAfter swaping:')\n",
    "print(f'num1: {num1}\\nnum2: {num2}')"
   ]
  },
  {
   "cell_type": "markdown",
   "id": "58d56768",
   "metadata": {},
   "source": [
    "### 2. Swapping two numbers without using third variable:\n",
    "\n",
    "__Q:__ Write a program to swap two numbers without using a third variable."
   ]
  },
  {
   "cell_type": "code",
   "execution_count": 2,
   "id": "fede28f2",
   "metadata": {},
   "outputs": [
    {
     "name": "stdout",
     "output_type": "stream",
     "text": [
      "Enter the first number: 5\n",
      "Enter the second number: 50\n",
      "\n",
      "Before swapping:\n",
      "num1: 5.0\n",
      "num2: 50.0\n",
      "\n",
      "After swaping:\n",
      "num1: 50.0\n",
      "num2: 5.0\n"
     ]
    }
   ],
   "source": [
    "num1 = float(input('Enter the first number: '))\n",
    "num2 = float(input('Enter the second number: '))\n",
    "\n",
    "print('\\nBefore swapping:')\n",
    "print(f'num1: {num1}\\nnum2: {num2}')\n",
    "\n",
    "num1 = num1+num2\n",
    "num2 = num1-num2\n",
    "num1 = num1-num2 \n",
    "\n",
    "print('\\nAfter swaping:')\n",
    "print(f'num1: {num1}\\nnum2: {num2}')"
   ]
  },
  {
   "cell_type": "markdown",
   "id": "5e82581a",
   "metadata": {},
   "source": [
    "### 3. Computing simple interest:\n",
    "\n",
    "__Q:__ Write a program to compute simple interest."
   ]
  },
  {
   "cell_type": "code",
   "execution_count": 3,
   "id": "1c75f27f",
   "metadata": {},
   "outputs": [
    {
     "name": "stdout",
     "output_type": "stream",
     "text": [
      "Enter the principle amount: 50000\n",
      "Enter the rate rate: 3.5\n",
      "Enter the time in years: 3\n",
      "The final/total amount to be paid is: 55250.0\n"
     ]
    }
   ],
   "source": [
    "principle = p = float(input('Enter the principle amount: '))\n",
    "rate = r = float(input('Enter the rate rate: '))/100\n",
    "time = t = float(input('Enter the time in years: '))\n",
    "\n",
    "final_amount = A = p*(1+(r*t))\n",
    "print(F'The final/total amount to be paid is: {A}')"
   ]
  },
  {
   "cell_type": "markdown",
   "id": "a38acb10",
   "metadata": {},
   "source": [
    "### 4. Calculating avergae of 5 numbers (user input):\n",
    "\n",
    "__Q:__ Write a program to find the average of five numbers taken by user input."
   ]
  },
  {
   "cell_type": "code",
   "execution_count": 4,
   "id": "0eaac7ee",
   "metadata": {},
   "outputs": [
    {
     "name": "stdout",
     "output_type": "stream",
     "text": [
      "Enter the first number: 5\n",
      "Enter the second number: 6\n",
      "Enter the third number: 7\n",
      "Enter the fourth number: 5\n",
      "Enter the fifth number: 6\n",
      "The average of the five numbers is: 5.8\n"
     ]
    }
   ],
   "source": [
    "num1 = float(input(\"Enter the first number: \"))\n",
    "num2 = float(input(\"Enter the second number: \"))\n",
    "num3 = float(input(\"Enter the third number: \"))\n",
    "num4 = float(input(\"Enter the fourth number: \"))\n",
    "num5 = float(input(\"Enter the fifth number: \"))\n",
    "\n",
    "average = (num1 + num2 + num3 + num4 + num5) / 5\n",
    "\n",
    "print(\"The average of the five numbers is:\", average)"
   ]
  },
  {
   "cell_type": "markdown",
   "id": "746eac6d",
   "metadata": {},
   "source": [
    "### 5. Calculating the discriminant of a quadratic equation:\n",
    "\n",
    "__Q:__ Write a program to calculate the discriminant of a quadratic equation."
   ]
  },
  {
   "cell_type": "code",
   "execution_count": 5,
   "id": "862afb4e",
   "metadata": {},
   "outputs": [
    {
     "name": "stdout",
     "output_type": "stream",
     "text": [
      "Enter the coefficient of x^2: 2\n",
      "Enter the coefficient of x: -3\n",
      "Enter the constant term (c): 8\n",
      "The discriminant of the quadratic equation is: -55.0\n"
     ]
    }
   ],
   "source": [
    "a = float(input(\"Enter the coefficient of x^2: \"))\n",
    "b = float(input(\"Enter the coefficient of x: \"))\n",
    "c = float(input(\"Enter the constant term (c): \"))\n",
    "\n",
    "discriminant = b**2 - 4*a*c\n",
    "\n",
    "print(\"The discriminant of the quadratic equation is:\", discriminant)"
   ]
  },
  {
   "cell_type": "code",
   "execution_count": null,
   "id": "ad2060f5",
   "metadata": {},
   "outputs": [],
   "source": []
  }
 ],
 "metadata": {
  "kernelspec": {
   "display_name": "Python 3 (ipykernel)",
   "language": "python",
   "name": "python3"
  },
  "language_info": {
   "codemirror_mode": {
    "name": "ipython",
    "version": 3
   },
   "file_extension": ".py",
   "mimetype": "text/x-python",
   "name": "python",
   "nbconvert_exporter": "python",
   "pygments_lexer": "ipython3",
   "version": "3.9.13"
  }
 },
 "nbformat": 4,
 "nbformat_minor": 5
}
