{
 "cells": [
  {
   "cell_type": "markdown",
   "id": "0b9c2488",
   "metadata": {},
   "source": [
    "# <span style='color:green'> K]. Looping Statement - III </span>"
   ]
  },
  {
   "cell_type": "markdown",
   "id": "3f98bb50",
   "metadata": {},
   "source": [
    "## 1. Counting the total number of digits in a number:\n",
    "\n",
    "__Q:__ Write a program to count the total number of digits in a number."
   ]
  },
  {
   "cell_type": "code",
   "execution_count": 11,
   "id": "cea87f21",
   "metadata": {},
   "outputs": [
    {
     "name": "stdout",
     "output_type": "stream",
     "text": [
      "Enter a number: 2354\n",
      "Total number of digits: 4\n"
     ]
    }
   ],
   "source": [
    "number = int(input(\"Enter a number: \"))\n",
    "\n",
    "count = 0\n",
    "temp = number\n",
    "\n",
    "while temp != 0:\n",
    "    temp //= 10\n",
    "    count += 1\n",
    "\n",
    "print(\"Total number of digits:\", count)"
   ]
  },
  {
   "cell_type": "markdown",
   "id": "603aee25",
   "metadata": {},
   "source": [
    "## 2. Printing Fibonacci series:\n",
    "\n",
    "__Q:__ Write a program to print the Fibonacci series."
   ]
  },
  {
   "cell_type": "code",
   "execution_count": 12,
   "id": "52a30a77",
   "metadata": {},
   "outputs": [
    {
     "name": "stdout",
     "output_type": "stream",
     "text": [
      "Enter the number of Fibonacci numbers to generate: 11\n",
      "0 1 1 2 3 5 8 13 21 34 55 "
     ]
    }
   ],
   "source": [
    "n = int(input(\"Enter the number of Fibonacci numbers to generate: \"))\n",
    "\n",
    "fib_list = [0, 1]\n",
    "\n",
    "if n <= 0:\n",
    "    print(\"Invalid input. Number of Fibonacci numbers should be greater than zero.\")\n",
    "elif n == 1:\n",
    "    print(fib_list[0])\n",
    "elif n == 2:\n",
    "    print(fib_list[0], fib_list[1])\n",
    "else:\n",
    "    print(fib_list[0], fib_list[1], end=\" \")\n",
    "    count = 2\n",
    "    while count < n:\n",
    "        next_num = fib_list[-1] + fib_list[-2]\n",
    "        fib_list.append(next_num)\n",
    "        print(next_num, end=\" \")\n",
    "        count += 1"
   ]
  },
  {
   "cell_type": "markdown",
   "id": "95dbf119",
   "metadata": {},
   "source": [
    "## 3. Checking if a number is an amstrong number:\n",
    "\n",
    "__Q:__ Write a program to check whether a given number is an amstrong number or not."
   ]
  },
  {
   "cell_type": "code",
   "execution_count": 13,
   "id": "ede931a1",
   "metadata": {},
   "outputs": [
    {
     "name": "stdout",
     "output_type": "stream",
     "text": [
      "Enter a number: 153\n",
      "153 is an Armstrong number.\n"
     ]
    }
   ],
   "source": [
    "number = int(input(\"Enter a number: \"))\n",
    "\n",
    "num_digits = len(str(number))\n",
    "\n",
    "armstrong_sum = 0\n",
    "\n",
    "temp = number\n",
    "\n",
    "while temp > 0:\n",
    "    digit = temp % 10\n",
    "    armstrong_sum += digit ** num_digits\n",
    "    temp //= 10\n",
    "\n",
    "if armstrong_sum == number:\n",
    "    print(number, \"is an Armstrong number.\")\n",
    "else:\n",
    "    print(number, \"is not an Armstrong number.\")"
   ]
  },
  {
   "cell_type": "markdown",
   "id": "87dc9664",
   "metadata": {},
   "source": [
    "## 4. Cheking of a number is a strog number:\n",
    "\n",
    "__Q:__ Write a program to check whether a given number is a strong number or not."
   ]
  },
  {
   "cell_type": "code",
   "execution_count": 14,
   "id": "8dd1d4f8",
   "metadata": {},
   "outputs": [
    {
     "name": "stdout",
     "output_type": "stream",
     "text": [
      "Enter a number: 145\n",
      "145 is a strong number.\n"
     ]
    }
   ],
   "source": [
    "number = int(input(\"Enter a number: \"))\n",
    "\n",
    "temp = number\n",
    "sum_factorials = 0\n",
    "\n",
    "while temp > 0:\n",
    "    digit = temp % 10\n",
    "\n",
    "    factorial = 1\n",
    "    for i in range(1, digit + 1):\n",
    "        factorial *= i\n",
    "\n",
    "    sum_factorials += factorial\n",
    "    temp //= 10\n",
    "\n",
    "if sum_factorials == number:\n",
    "    print(number, \"is a strong number.\")\n",
    "else:\n",
    "    print(number, \"is not a strong number.\")"
   ]
  },
  {
   "cell_type": "markdown",
   "id": "1b8a27c7",
   "metadata": {},
   "source": [
    "## 5. Cheking if a number is a perfect number:\n",
    "\n",
    "__Q:__ Write a program to check whether a given number is a perfect number or not."
   ]
  },
  {
   "cell_type": "code",
   "execution_count": 15,
   "id": "c7d92605",
   "metadata": {},
   "outputs": [
    {
     "name": "stdout",
     "output_type": "stream",
     "text": [
      "Enter a number: 8128\n",
      "8128 is a perfect number.\n"
     ]
    }
   ],
   "source": [
    "number = int(input(\"Enter a number: \"))\n",
    "\n",
    "divisor_sum = 0\n",
    "\n",
    "for i in range(1, number):\n",
    "    if number % i == 0:\n",
    "        divisor_sum += i\n",
    "\n",
    "if divisor_sum == number:\n",
    "    print(number, \"is a perfect number.\")\n",
    "else:\n",
    "    print(number, \"is not a perfect number.\")"
   ]
  },
  {
   "cell_type": "code",
   "execution_count": null,
   "id": "72990903",
   "metadata": {},
   "outputs": [],
   "source": []
  }
 ],
 "metadata": {
  "kernelspec": {
   "display_name": "Python 3 (ipykernel)",
   "language": "python",
   "name": "python3"
  },
  "language_info": {
   "codemirror_mode": {
    "name": "ipython",
    "version": 3
   },
   "file_extension": ".py",
   "mimetype": "text/x-python",
   "name": "python",
   "nbconvert_exporter": "python",
   "pygments_lexer": "ipython3",
   "version": "3.9.13"
  }
 },
 "nbformat": 4,
 "nbformat_minor": 5
}
