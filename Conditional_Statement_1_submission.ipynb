{
 "cells": [
  {
   "cell_type": "markdown",
   "id": "8a93c0c9",
   "metadata": {},
   "source": [
    "# <font color='green'>A]. Conditional Statement-I:"
   ]
  },
  {
   "cell_type": "markdown",
   "id": "fc662999",
   "metadata": {},
   "source": [
    "### 1. Even odd number:\n",
    "\n",
    "__Q:__ Write a program to check if a given number is an even or an odd number."
   ]
  },
  {
   "cell_type": "code",
   "execution_count": 1,
   "id": "264dcd60",
   "metadata": {},
   "outputs": [
    {
     "name": "stdout",
     "output_type": "stream",
     "text": [
      "Enter any whole number: 8\n",
      "The given number is even.\n"
     ]
    }
   ],
   "source": [
    "number = int(input('Enter any whole number: '))\n",
    "if number%2==0:\n",
    "    print('The given number is even.')\n",
    "else:\n",
    "    print('The given number is odd.')"
   ]
  },
  {
   "cell_type": "markdown",
   "id": "d826c566",
   "metadata": {},
   "source": [
    "### 2. Is the given alphabet a vowel or consonant:\n",
    "\n",
    "__Q:__ Write a program to check whether a given alphabet is a vowel or consonant."
   ]
  },
  {
   "cell_type": "code",
   "execution_count": 2,
   "id": "c2d8f319",
   "metadata": {},
   "outputs": [
    {
     "name": "stdout",
     "output_type": "stream",
     "text": [
      "Enter any alphabet from A-Z: A\n",
      "'A' is a vowel.\n"
     ]
    }
   ],
   "source": [
    "vowels=['A','E','I','O','U', 'a', 'e', 'i', 'o', 'u']\n",
    "\n",
    "user_input = input('Enter any alphabet from A-Z: ')\n",
    "if user_input in vowels:\n",
    "    print(f\"'{user_input}' is a vowel.\")\n",
    "elif user_input not in vowels:\n",
    "    print(f\"'{user_input}' is a consonant.\")\n",
    "else:\n",
    "    print('Invalid input!')"
   ]
  },
  {
   "cell_type": "markdown",
   "id": "72563cdf",
   "metadata": {},
   "source": [
    "### 3. Checking the eligibility of a person to vote:\n",
    "\n",
    "__Q:__ Write a program to check whether a person is eligible to vote or not."
   ]
  },
  {
   "cell_type": "code",
   "execution_count": 4,
   "id": "82e55992",
   "metadata": {},
   "outputs": [
    {
     "name": "stdout",
     "output_type": "stream",
     "text": [
      "Enter you age: 18\n",
      "You are eligibel to vote.\n"
     ]
    }
   ],
   "source": [
    "age = int(input('Enter you age: '))\n",
    "if age<18 and age>=0:\n",
    "    print('You are ineligible to vote.')\n",
    "elif age>=18 and age<=100:\n",
    "    print('You are eligibel to vote.')\n",
    "else:\n",
    "    print('Invalid input!')"
   ]
  },
  {
   "cell_type": "markdown",
   "id": "d087d12d",
   "metadata": {},
   "source": [
    "### 4. Checking if the given number is a positive, negative or zero:\n",
    "\n",
    "__Q:__ Write a program to check whether a given number is a negative, positive or a zero number."
   ]
  },
  {
   "cell_type": "code",
   "execution_count": 5,
   "id": "8e2497d5",
   "metadata": {},
   "outputs": [
    {
     "name": "stdout",
     "output_type": "stream",
     "text": [
      "Enter any number: 0\n",
      "0 is a neutral number.\n"
     ]
    }
   ],
   "source": [
    "number = float(input('Enter any number: '))\n",
    "if number<0:\n",
    "    print('The given number is a negative number.')\n",
    "elif number==0:\n",
    "    print('0 is a neutral number.')\n",
    "else:\n",
    "    print('The given number is a positive number.')"
   ]
  },
  {
   "cell_type": "markdown",
   "id": "44ccecdf",
   "metadata": {},
   "source": [
    "### 5. Checking if a given year is a leap year:\n",
    "\n",
    "__Q:__ Write a program to check whether a given year is a leap year or not."
   ]
  },
  {
   "cell_type": "code",
   "execution_count": 6,
   "id": "b0ec784c",
   "metadata": {},
   "outputs": [
    {
     "name": "stdout",
     "output_type": "stream",
     "text": [
      "Enter any year: 2024\n",
      "The given year is a leap year.\n"
     ]
    }
   ],
   "source": [
    "year = int(input('Enter any year: '))\n",
    "if year%4==0 & year%100!=0:\n",
    "    print('The given year is a leap year.')\n",
    "elif year%4==0 & year%100==0 & year%400==0:\n",
    "    print('The given year is a leap year.')\n",
    "else:\n",
    "    print('The given year is not a leap year.')"
   ]
  },
  {
   "cell_type": "markdown",
   "id": "2707a82b",
   "metadata": {},
   "source": [
    "### 6. Checking the type of a triangle (equilateral, isosceles or scalene):\n",
    "\n",
    "__Q:__ Write a program to check if a triange is an equilateral, isosceles or a scalene triangle."
   ]
  },
  {
   "cell_type": "code",
   "execution_count": 7,
   "id": "4e740848",
   "metadata": {},
   "outputs": [
    {
     "name": "stdout",
     "output_type": "stream",
     "text": [
      "Enter length of side x: 5\n",
      "Enter length of side y: 5\n",
      "Enter length of side z: 8\n",
      "This is an isosceles triangle.\n"
     ]
    }
   ],
   "source": [
    "x = float(input(\"Enter length of side x: \"))\n",
    "y = float(input(\"Enter length of side y: \"))\n",
    "z = float(input(\"Enter length of side z: \"))\n",
    "\n",
    "if x==y==z:\n",
    "    print(\"This is an equilateral triangle.\")\n",
    "elif x==y or y==z or z==x:\n",
    "    print(\"This is an isosceles triangle.\")\n",
    "else:\n",
    "    print(\"This is a scalene triangle.\")\n"
   ]
  },
  {
   "cell_type": "markdown",
   "id": "6ee8d826",
   "metadata": {},
   "source": [
    "### 7. Profit or loss after a product:\n",
    "\n",
    "__Q:__ Write a program to check if after selling a product its profit or loss."
   ]
  },
  {
   "cell_type": "code",
   "execution_count": 9,
   "id": "abba530e",
   "metadata": {},
   "outputs": [
    {
     "name": "stdout",
     "output_type": "stream",
     "text": [
      "Enter the selling price of the product: 100\n",
      "Enter the cost price of the product: 80\n",
      "It's a profit with 20.0 units.\n"
     ]
    }
   ],
   "source": [
    "selling_price = float(input('Enter the selling price of the product: ')) #10\n",
    "cost_price = float(input('Enter the cost price of the product: '))  #6\n",
    "\n",
    "if selling_price>cost_price:\n",
    "    print(f\"It's a profit with {selling_price-cost_price} units.\")\n",
    "elif selling_price==cost_price:\n",
    "    print(\"It's neither profit nor loss.\")\n",
    "else:\n",
    "    print(f\"It's a loss with {cost_price-selling_price} units.\")"
   ]
  },
  {
   "cell_type": "code",
   "execution_count": null,
   "id": "6cb14fb7",
   "metadata": {},
   "outputs": [],
   "source": []
  }
 ],
 "metadata": {
  "kernelspec": {
   "display_name": "Python 3 (ipykernel)",
   "language": "python",
   "name": "python3"
  },
  "language_info": {
   "codemirror_mode": {
    "name": "ipython",
    "version": 3
   },
   "file_extension": ".py",
   "mimetype": "text/x-python",
   "name": "python",
   "nbconvert_exporter": "python",
   "pygments_lexer": "ipython3",
   "version": "3.9.13"
  }
 },
 "nbformat": 4,
 "nbformat_minor": 5
}
