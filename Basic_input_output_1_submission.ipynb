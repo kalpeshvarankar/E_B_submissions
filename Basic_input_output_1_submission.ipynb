{
 "cells": [
  {
   "cell_type": "markdown",
   "id": "6ef2d083",
   "metadata": {},
   "source": [
    "# <font color='green'>B]. Basic Input Output-I:\n",
    "    "
   ]
  },
  {
   "cell_type": "markdown",
   "id": "386fb201",
   "metadata": {},
   "source": [
    "### 1. Introduction:\n",
    "\n",
    "__Q:__ Write a program to introduce yourself."
   ]
  },
  {
   "cell_type": "code",
   "execution_count": 2,
   "id": "b1190ab5",
   "metadata": {},
   "outputs": [
    {
     "name": "stdout",
     "output_type": "stream",
     "text": [
      "Hello. I'm Kalpesh Varankar and I am an engineer.\n"
     ]
    }
   ],
   "source": [
    "intro='Hello. I\\'m Kalpesh Varankar and I am an engineer.'\n",
    "\n",
    "print(intro)"
   ]
  },
  {
   "cell_type": "markdown",
   "id": "1bb9e1e7",
   "metadata": {},
   "source": [
    "### 2. Arithmetic operations:\n",
    "- Write a program to perform the following operations:\n",
    "    > 1. Addition\n",
    "    > 2. Substraction\n",
    "    > 3. Multiplication\n",
    "    > 4. Division\n",
    "    > 5. Modulus\n",
    "    > 6. Exponent"
   ]
  },
  {
   "cell_type": "code",
   "execution_count": 3,
   "id": "62d8ffb2",
   "metadata": {},
   "outputs": [
    {
     "name": "stdout",
     "output_type": "stream",
     "text": [
      "Enter the first number: 5\n",
      "Enter the second number: 2\n",
      "The addition of 5.0 and 2.0 is: 7.0\n"
     ]
    }
   ],
   "source": [
    "#i). addition:\n",
    "a = float(input('Enter the first number: '))\n",
    "b = float(input('Enter the second number: '))\n",
    "res = round((a+b),2)\n",
    "print(f'The addition of {a} and {b} is: {res}')"
   ]
  },
  {
   "cell_type": "code",
   "execution_count": 4,
   "id": "df7d55c9",
   "metadata": {},
   "outputs": [
    {
     "name": "stdout",
     "output_type": "stream",
     "text": [
      "Enter the first number: 8.0535\n",
      "Enter the second number: 2.54687\n",
      "The substraction of 8.0535 and 2.54687 is: 5.51\n"
     ]
    }
   ],
   "source": [
    "#ii). substraction:\n",
    "a = float(input('Enter the first number: '))\n",
    "b = float(input('Enter the second number: '))\n",
    "res = round((a-b),2)\n",
    "print(f'The substraction of {a} and {b} is: {res}')"
   ]
  },
  {
   "cell_type": "code",
   "execution_count": 5,
   "id": "5949b586",
   "metadata": {},
   "outputs": [
    {
     "name": "stdout",
     "output_type": "stream",
     "text": [
      "Enter the first number: 5.3841\n",
      "Enter the second number: 6.547\n",
      "The multiplication of 5.3841 and 6.547 is: 35.25\n"
     ]
    }
   ],
   "source": [
    "#iii). multiplication:\n",
    "a = float(input('Enter the first number: '))\n",
    "b = float(input('Enter the second number: '))\n",
    "res = round((a*b),2)\n",
    "print(f'The multiplication of {a} and {b} is: {res}')"
   ]
  },
  {
   "cell_type": "code",
   "execution_count": 6,
   "id": "b567486e",
   "metadata": {},
   "outputs": [
    {
     "name": "stdout",
     "output_type": "stream",
     "text": [
      "Enter the first number: 5.3154\n",
      "Enter the second number: 2.32\n",
      "The division of 5.3154 and 2.32 is: 2.29\n"
     ]
    }
   ],
   "source": [
    "#iii). division:\n",
    "a = float(input('Enter the first number: '))\n",
    "b = float(input('Enter the second number: '))\n",
    "if a==0 and b==0:\n",
    "    print('Math: Undefined')\n",
    "elif a!=0 and b==0:\n",
    "    print('Math: Undefined')\n",
    "else:\n",
    "    res = round((a/b),2)\n",
    "    print(f'The division of {a} and {b} is: {res}')"
   ]
  },
  {
   "cell_type": "code",
   "execution_count": 7,
   "id": "6f5247ff",
   "metadata": {},
   "outputs": [
    {
     "name": "stdout",
     "output_type": "stream",
     "text": [
      "Enter the first number: 10\n",
      "Enter the second number: 3\n",
      "The modulus of 10.0 and 3.0 is: 1.0\n"
     ]
    }
   ],
   "source": [
    "#iv). modulus:\n",
    "a = float(input('Enter the first number: '))\n",
    "b = float(input('Enter the second number: '))\n",
    "res = round((a%b),2)\n",
    "print(f'The modulus of {a} and {b} is: {res}')"
   ]
  },
  {
   "cell_type": "code",
   "execution_count": 8,
   "id": "ccabef7b",
   "metadata": {},
   "outputs": [
    {
     "name": "stdout",
     "output_type": "stream",
     "text": [
      "Enter the base number: 8\n",
      "Enter the exponent value: 2\n",
      "8.0 to the power of 2.0 is: 64.0\n"
     ]
    }
   ],
   "source": [
    "#v). exponents:\n",
    "base = float(input('Enter the base number: '))\n",
    "exponent = float(input('Enter the exponent value: '))\n",
    "res = round((base**exponent),2)\n",
    "print(f'{base} to the power of {exponent} is: {res}')"
   ]
  },
  {
   "cell_type": "code",
   "execution_count": null,
   "id": "66d2c275",
   "metadata": {},
   "outputs": [],
   "source": []
  }
 ],
 "metadata": {
  "kernelspec": {
   "display_name": "Python 3 (ipykernel)",
   "language": "python",
   "name": "python3"
  },
  "language_info": {
   "codemirror_mode": {
    "name": "ipython",
    "version": 3
   },
   "file_extension": ".py",
   "mimetype": "text/x-python",
   "name": "python",
   "nbconvert_exporter": "python",
   "pygments_lexer": "ipython3",
   "version": "3.9.13"
  }
 },
 "nbformat": 4,
 "nbformat_minor": 5
}
