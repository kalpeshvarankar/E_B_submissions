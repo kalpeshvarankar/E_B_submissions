{
 "cells": [
  {
   "cell_type": "markdown",
   "id": "fd6eb2c0",
   "metadata": {},
   "source": [
    "# <font color='green'> G]. Conditional Statement-V:"
   ]
  },
  {
   "cell_type": "markdown",
   "id": "4c67ce1e",
   "metadata": {},
   "source": [
    "### 1. Marks and corresponding grades:\n",
    "\n",
    "__Q:__ A school has following rules of grading system:\n",
    "\n",
    " - Below 25 - __F__ \n",
    " - 25 to 45 - __E__\n",
    " - 45 to 50 - __D__\n",
    " - 50 to 60 - __C__\n",
    " - 60 to 80 - __B__\n",
    " - Above 80 - __A__\n",
    " \n",
    "Ask user to enter the marks obtained and print the corresponding grade."
   ]
  },
  {
   "cell_type": "code",
   "execution_count": 1,
   "id": "af010f15",
   "metadata": {},
   "outputs": [
    {
     "name": "stdout",
     "output_type": "stream",
     "text": [
      "Enter the marks obtained: 55\n",
      "Your grade is: C\n"
     ]
    }
   ],
   "source": [
    "marks = float(input('Enter the marks obtained: '))\n",
    "\n",
    "if 0<=marks<25:\n",
    "    print('Your grade is: F')\n",
    "elif 25<=marks<=45:\n",
    "    print('Your grade is: E')\n",
    "elif 45<marks<=50:\n",
    "    print('Your grade is: D')\n",
    "elif 50<marks<=60:\n",
    "    print('Your grade is: C')\n",
    "elif 60<marks<=80:\n",
    "    print('Your grade is: B')\n",
    "elif 80<marks<=100:\n",
    "    print('Your grade is: A')\n",
    "else:\n",
    "    print('Invalid input!')"
   ]
  },
  {
   "cell_type": "code",
   "execution_count": null,
   "id": "3efb1d6d",
   "metadata": {},
   "outputs": [],
   "source": []
  }
 ],
 "metadata": {
  "kernelspec": {
   "display_name": "Python 3 (ipykernel)",
   "language": "python",
   "name": "python3"
  },
  "language_info": {
   "codemirror_mode": {
    "name": "ipython",
    "version": 3
   },
   "file_extension": ".py",
   "mimetype": "text/x-python",
   "name": "python",
   "nbconvert_exporter": "python",
   "pygments_lexer": "ipython3",
   "version": "3.9.13"
  }
 },
 "nbformat": 4,
 "nbformat_minor": 5
}
