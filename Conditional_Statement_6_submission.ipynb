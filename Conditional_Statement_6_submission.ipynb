{
 "cells": [
  {
   "cell_type": "markdown",
   "id": "3e490c56",
   "metadata": {},
   "source": [
    "# <span style='color:green'>J]. Conditional Statement - VI:</span>"
   ]
  },
  {
   "cell_type": "markdown",
   "id": "db004440",
   "metadata": {},
   "source": [
    "__Q:__ A student will not be allowed to sit in the exam if his/her attendence is less than 75%.\n",
    "\n",
    "Take the following input from the user:\n",
    "- Number of classes held\n",
    "- Number of classes attended\n",
    "\n",
    "And then print the percentage of class attendance and whether if the student is allowed to appear for the exam or not."
   ]
  },
  {
   "cell_type": "code",
   "execution_count": 3,
   "id": "1140fcbd",
   "metadata": {},
   "outputs": [
    {
     "name": "stdout",
     "output_type": "stream",
     "text": [
      "Enter the total number of classes held: 100\n",
      "Enter the total number of classes attended: 76\n",
      "\n",
      "Your attendance is 76.0. You are allowed to appear for the exam.\n"
     ]
    }
   ],
   "source": [
    "total_classes_held = int(input('Enter the total number of classes held: '))\n",
    "total_classes_attended = int(input('Enter the total number of classes attended: '))\n",
    "\n",
    "attendence_percentage = (total_classes_attended/total_classes_held)*100\n",
    "\n",
    "if attendence_percentage<75:\n",
    "    print(f'\\nYour attendance is {attendence_percentage}. You are not allowed to appear for the exam.')\n",
    "else:\n",
    "    print(f'\\nYour attendance is {attendence_percentage}. You are allowed to appear for the exam.')"
   ]
  },
  {
   "cell_type": "code",
   "execution_count": null,
   "id": "3ae94457",
   "metadata": {},
   "outputs": [],
   "source": []
  }
 ],
 "metadata": {
  "kernelspec": {
   "display_name": "Python 3 (ipykernel)",
   "language": "python",
   "name": "python3"
  },
  "language_info": {
   "codemirror_mode": {
    "name": "ipython",
    "version": 3
   },
   "file_extension": ".py",
   "mimetype": "text/x-python",
   "name": "python",
   "nbconvert_exporter": "python",
   "pygments_lexer": "ipython3",
   "version": "3.9.13"
  }
 },
 "nbformat": 4,
 "nbformat_minor": 5
}
